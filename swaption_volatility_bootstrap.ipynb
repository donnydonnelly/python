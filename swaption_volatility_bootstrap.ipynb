{
 "cells": [
  {
   "cell_type": "markdown",
   "id": "89c87762",
   "metadata": {},
   "source": [
    "# Swaption Volatility Bootstrapping"
   ]
  },
  {
   "cell_type": "code",
   "execution_count": 1,
   "id": "1652c38e",
   "metadata": {},
   "outputs": [],
   "source": [
    "import pandas as pd\n",
    "import numpy as np\n",
    "import matplotlib.pyplot as plt\n",
    "import math\n",
    "from fredapi import Fred\n",
    "from scipy.interpolate import interp1d\n",
    "import scipy.special as special\n",
    "import scipy.optimize as optimize"
   ]
  },
  {
   "cell_type": "markdown",
   "id": "fec9c5bd",
   "metadata": {},
   "source": [
    "### Create Price Curve"
   ]
  },
  {
   "cell_type": "code",
   "execution_count": 2,
   "id": "a5113694",
   "metadata": {},
   "outputs": [],
   "source": [
    "def P(T,r):\n",
    "    return 100*np.exp(-(r*T))"
   ]
  },
  {
   "cell_type": "code",
   "execution_count": 3,
   "id": "2b8b9103",
   "metadata": {},
   "outputs": [],
   "source": [
    "api_key = \"9bfd3e0f52387a12fa0f09291c86655a\"\n",
    "fred = Fred(api_key=api_key)\n",
    "df_CMT = pd.DataFrame()\n",
    "\n",
    "df_CMT[\"DGS1\"] = fred.get_series('DGS1')\n",
    "df_CMT[\"DGS2\"] = fred.get_series('DGS2')\n",
    "df_CMT[\"DGS3\"] = fred.get_series('DGS3')\n",
    "df_CMT[\"DGS5\"] = fred.get_series('DGS5')\n",
    "\n",
    "df2_CMT = pd.DataFrame(df_CMT.iloc[len(df_CMT)-23,:])\n",
    "df2_CMT[\"t\"] = [1,2,3,5]\n",
    "df2_CMT[\"P\"] = P(df2_CMT.iloc[:,1],df2_CMT.iloc[:,0]/100)"
   ]
  },
  {
   "cell_type": "code",
   "execution_count": 4,
   "id": "0d5b651d",
   "metadata": {},
   "outputs": [
    {
     "data": {
      "text/html": [
       "<div>\n",
       "<style scoped>\n",
       "    .dataframe tbody tr th:only-of-type {\n",
       "        vertical-align: middle;\n",
       "    }\n",
       "\n",
       "    .dataframe tbody tr th {\n",
       "        vertical-align: top;\n",
       "    }\n",
       "\n",
       "    .dataframe thead th {\n",
       "        text-align: right;\n",
       "    }\n",
       "</style>\n",
       "<table border=\"1\" class=\"dataframe\">\n",
       "  <thead>\n",
       "    <tr style=\"text-align: right;\">\n",
       "      <th></th>\n",
       "      <th>2023-03-01 00:00:00</th>\n",
       "      <th>t</th>\n",
       "      <th>P</th>\n",
       "    </tr>\n",
       "  </thead>\n",
       "  <tbody>\n",
       "    <tr>\n",
       "      <th>DGS1</th>\n",
       "      <td>5.06</td>\n",
       "      <td>1</td>\n",
       "      <td>95.065886</td>\n",
       "    </tr>\n",
       "    <tr>\n",
       "      <th>DGS2</th>\n",
       "      <td>4.89</td>\n",
       "      <td>2</td>\n",
       "      <td>90.683025</td>\n",
       "    </tr>\n",
       "    <tr>\n",
       "      <th>DGS3</th>\n",
       "      <td>4.61</td>\n",
       "      <td>3</td>\n",
       "      <td>87.083740</td>\n",
       "    </tr>\n",
       "    <tr>\n",
       "      <th>DGS5</th>\n",
       "      <td>4.27</td>\n",
       "      <td>5</td>\n",
       "      <td>80.775216</td>\n",
       "    </tr>\n",
       "  </tbody>\n",
       "</table>\n",
       "</div>"
      ],
      "text/plain": [
       "      2023-03-01 00:00:00  t          P\n",
       "DGS1                 5.06  1  95.065886\n",
       "DGS2                 4.89  2  90.683025\n",
       "DGS3                 4.61  3  87.083740\n",
       "DGS5                 4.27  5  80.775216"
      ]
     },
     "execution_count": 4,
     "metadata": {},
     "output_type": "execute_result"
    }
   ],
   "source": [
    "df2_CMT"
   ]
  },
  {
   "cell_type": "code",
   "execution_count": 5,
   "id": "a8d3974d",
   "metadata": {},
   "outputs": [
    {
     "data": {
      "image/png": "[encoded data removed]",
      "text/plain": [
       "<Figure size 1000x500 with 1 Axes>"
      ]
     },
     "metadata": {},
     "output_type": "display_data"
    }
   ],
   "source": [
    "plt.figure(figsize=(10,5))\n",
    "y = df2_CMT.iloc[:,2]\n",
    "x = df2_CMT.iloc[:,1]\n",
    "\n",
    "f = interp1d(x, y, kind='quadratic')\n",
    "\n",
    "x_new = np.linspace(1, 5, 100)\n",
    "y_new = f(x_new)\n",
    "\n",
    "plt.plot(x_new,y_new)\n",
    "plt.scatter(x,y,color=\"red\")\n",
    "plt.title(\"Price Curve\")\n",
    "plt.show()"
   ]
  },
  {
   "cell_type": "markdown",
   "id": "a8a984c4",
   "metadata": {},
   "source": [
    "### Swaption Volatility Bootstrap"
   ]
  },
  {
   "cell_type": "code",
   "execution_count": 16,
   "id": "6642d3be",
   "metadata": {},
   "outputs": [],
   "source": [
    "# Get implied vol from a strike and ATM swaption price\n",
    "\n",
    "def bs_price_fwd(K,v):\n",
    "    opt= K*(special.ndtr((1/2)*v) - special.ndtr(-(1/2)*v))*100000\n",
    "    return opt\n",
    "class BSPriceTarget:\n",
    "    def __init__(self,K,p):\n",
    "        self.K=K\n",
    "        self.p=p\n",
    "    def __call__(self,sigma):\n",
    "        return  bs_price_fwd(self.K,sigma)-self.p\n",
    "def bs_implied_fwd(K, p, tol=1e-8,max_iter=1000, max_sigma=4):\n",
    "    func=BSPriceTarget(K,p)\n",
    "    sol=optimize.root_scalar(func,bracket=[-10,10],method=\"brentq\")\n",
    "    return sol.root"
   ]
  },
  {
   "cell_type": "code",
   "execution_count": 7,
   "id": "183b9b5c",
   "metadata": {},
   "outputs": [],
   "source": [
    "# ATM Swaption Prices\n",
    "# [[1x1, 2x1, 3x1],[1x2, 2x2],[1x3]]\n",
    "C = [[2278.1,4207.68,5883.36],[5461.08,9157.93],[8840.52]]\n",
    "v = [[0,0,0],[0,0],[0]]\n",
    "ep = [[0,0,0],[0,0],[0]]"
   ]
  },
  {
   "cell_type": "code",
   "execution_count": 8,
   "id": "557b2857",
   "metadata": {},
   "outputs": [],
   "source": [
    "# 1x1 Swaption\n",
    "K2 = f(2)/f(1)\n",
    "w2 = (1/K2)-1\n",
    "chi12 = C[0][0]/((f(1)/100)*(1+w2))\n",
    "v[0][0] = bs_implied_fwd(K2, chi12)\n",
    "ep[0][0] = v[0][0]"
   ]
  },
  {
   "cell_type": "code",
   "execution_count": 9,
   "id": "2ecd9b4e",
   "metadata": {},
   "outputs": [],
   "source": [
    "# 1x2 Swaption\n",
    "K3 = f(3)/f(1)\n",
    "w3 = (1-K3)/(K2+K3)\n",
    "chi13 = (C[1][0]/(f(1)/100) - w3*chi12)/(w3+1)\n",
    "v[1][0] = bs_implied_fwd(K3, chi13)\n",
    "ep[1][0] = v[1][0] - ep[0][0]"
   ]
  },
  {
   "cell_type": "code",
   "execution_count": 10,
   "id": "ea2019c3",
   "metadata": {},
   "outputs": [],
   "source": [
    "# 1x3 Swaption\n",
    "K4 = f(4)/f(1)\n",
    "w4 = (1-K4)/(K2+K3+K4)\n",
    "chi14 = (C[2][0]/(f(1)/100) - w4*(chi12+chi13))/(w4+1)\n",
    "v[2][0] = bs_implied_fwd(K4, chi14)\n",
    "ep[2][0] = v[2][0] - ep[1][0] - ep[0][0]"
   ]
  },
  {
   "cell_type": "code",
   "execution_count": 11,
   "id": "ff2920c6",
   "metadata": {},
   "outputs": [],
   "source": [
    "# 2x1 Swaption\n",
    "chi23 = C[0][1]/((f(2)/100)*(1+w3))\n",
    "v[0][1] = bs_implied_fwd(K3, chi23)\n",
    "ep[0][1] = np.sqrt(v[0][1]**2 - ep[1][0]**2)"
   ]
  },
  {
   "cell_type": "code",
   "execution_count": 12,
   "id": "40f48a38",
   "metadata": {},
   "outputs": [],
   "source": [
    "# 2x2 Swaption\n",
    "chi24 = (C[1][1]/(f(2)/100) - w4*chi23)/(w4+1)\n",
    "v[1][1] = bs_implied_fwd(K4, chi24)\n",
    "ep[1][1] = np.sqrt(v[1][1]**2 - (ep[1][0]+ep[2][0])**2) - ep[0][1]"
   ]
  },
  {
   "cell_type": "code",
   "execution_count": 13,
   "id": "cc9847a1",
   "metadata": {},
   "outputs": [],
   "source": [
    "# 3x1 Swaption\n",
    "chi31 = C[2][0]/((f(3)/100)*(1+w4))\n",
    "v[0][2] = bs_implied_fwd(K4, chi31)\n",
    "ep[0][2] = np.sqrt(v[0][2]**2 - ep[2][0]**2 - ep[1][1]**2)"
   ]
  },
  {
   "cell_type": "code",
   "execution_count": 14,
   "id": "4419c099",
   "metadata": {},
   "outputs": [
    {
     "data": {
      "text/plain": [
       "([[2278.1, 4207.68, 5883.36], [5461.08, 9157.93], [8840.52]],\n",
       " [[0.060076320438574665, 0.12158668147173601, 0.27763022429221873],\n",
       "  [0.14788405889573147, 0.2709144564228415],\n",
       "  [0.24509900910355883]],\n",
       " [[0.060076320438574665, 0.08410185597446075, 0.23383668635108432],\n",
       "  [0.08780773845715681, 0.1137901534096072],\n",
       "  [0.09721495020782736]])"
      ]
     },
     "execution_count": 14,
     "metadata": {},
     "output_type": "execute_result"
    }
   ],
   "source": [
    "C, v, ep "
   ]
  }
 ],
 "metadata": {
  "kernelspec": {
   "display_name": "Python 3 (ipykernel)",
   "language": "python",
   "name": "python3"
  },
  "language_info": {
   "codemirror_mode": {
    "name": "ipython",
    "version": 3
   },
   "file_extension": ".py",
   "mimetype": "text/x-python",
   "name": "python",
   "nbconvert_exporter": "python",
   "pygments_lexer": "ipython3",
   "version": "3.9.13"
  }
 },
 "nbformat": 4,
 "nbformat_minor": 5
}
