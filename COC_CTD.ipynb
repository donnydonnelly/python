{
 "cells": [
  {
   "cell_type": "code",
   "execution_count": 1,
   "id": "976fa62f",
   "metadata": {},
   "outputs": [],
   "source": [
    "import pandas as pd\n",
    "import numpy as np\n",
    "import math\n",
    "import matplotlib.pyplot as plt"
   ]
  },
  {
   "cell_type": "markdown",
   "id": "eb618503",
   "metadata": {},
   "source": [
    "# Cost of Carry - CTD (T-Bonds)"
   ]
  },
  {
   "cell_type": "code",
   "execution_count": 2,
   "id": "e68446cf",
   "metadata": {},
   "outputs": [],
   "source": [
    "# Conversion Factor\n",
    "def conversion_factor(C,T):\n",
    "    n = math.floor(T*2)\n",
    "    summation = 0\n",
    "    for i in range(1,n):\n",
    "        summation = summation + ((C/2)/(1.03**i))\n",
    "    disc = summation + (100 + (C/2))/(1.03**n)\n",
    "    if T%.5 == 0.25:\n",
    "        disc = disc/1.014889\n",
    "    return round(disc,4)\n",
    "\n",
    "# Bond dirty price\n",
    "def P(T,C,r):\n",
    "    n = math.floor(T*2)\n",
    "    coupon_sum = 0\n",
    "    acc_interest = 0\n",
    "    for i in range(1,n):\n",
    "        coupon_sum += ((C/2)*np.exp(-(r/2)*i))\n",
    "    clean_price = coupon_sum + (100 + (C/2))*np.exp(-(r/2)*(n))\n",
    "    acc_interest = a(C,T)\n",
    "    return clean_price + acc_interest\n",
    "\n",
    "# Accrued interest\n",
    "def a(C, T):\n",
    "    if T%.5 == 0.25:\n",
    "        return (C/2)*(1/2)\n",
    "    else:\n",
    "        return 0\n",
    "\n",
    "# Delivery Profit\n",
    "def delivery_profit(Phi_t, C, P, cf, T, T_f, r):\n",
    "    return (Phi_t*(cf/100) + a(C, (T-T_f)%.5)) - ((P + a(C, T))*(1+r)**T_f)"
   ]
  },
  {
   "cell_type": "code",
   "execution_count": 3,
   "id": "f413235b",
   "metadata": {},
   "outputs": [
    {
     "data": {
      "text/html": [
       "<div>\n",
       "<style scoped>\n",
       "    .dataframe tbody tr th:only-of-type {\n",
       "        vertical-align: middle;\n",
       "    }\n",
       "\n",
       "    .dataframe tbody tr th {\n",
       "        vertical-align: top;\n",
       "    }\n",
       "\n",
       "    .dataframe thead th {\n",
       "        text-align: right;\n",
       "    }\n",
       "</style>\n",
       "<table border=\"1\" class=\"dataframe\">\n",
       "  <thead>\n",
       "    <tr style=\"text-align: right;\">\n",
       "      <th></th>\n",
       "      <th>Ticker</th>\n",
       "      <th>Coupon</th>\n",
       "      <th>Yield</th>\n",
       "      <th>T-t</th>\n",
       "    </tr>\n",
       "  </thead>\n",
       "  <tbody>\n",
       "    <tr>\n",
       "      <th>0</th>\n",
       "      <td>912810PX0</td>\n",
       "      <td>4.500</td>\n",
       "      <td>0.04609</td>\n",
       "      <td>15.25</td>\n",
       "    </tr>\n",
       "    <tr>\n",
       "      <th>1</th>\n",
       "      <td>912810QA9</td>\n",
       "      <td>3.500</td>\n",
       "      <td>0.03540</td>\n",
       "      <td>16.00</td>\n",
       "    </tr>\n",
       "    <tr>\n",
       "      <th>2</th>\n",
       "      <td>912810QB7</td>\n",
       "      <td>4.250</td>\n",
       "      <td>0.04288</td>\n",
       "      <td>16.25</td>\n",
       "    </tr>\n",
       "    <tr>\n",
       "      <th>3</th>\n",
       "      <td>912810QC5</td>\n",
       "      <td>4.500</td>\n",
       "      <td>0.04541</td>\n",
       "      <td>16.50</td>\n",
       "    </tr>\n",
       "    <tr>\n",
       "      <th>4</th>\n",
       "      <td>912810QD3</td>\n",
       "      <td>4.375</td>\n",
       "      <td>0.04469</td>\n",
       "      <td>16.75</td>\n",
       "    </tr>\n",
       "  </tbody>\n",
       "</table>\n",
       "</div>"
      ],
      "text/plain": [
       "      Ticker  Coupon    Yield    T-t\n",
       "0  912810PX0   4.500  0.04609  15.25\n",
       "1  912810QA9   3.500  0.03540  16.00\n",
       "2  912810QB7   4.250  0.04288  16.25\n",
       "3  912810QC5   4.500  0.04541  16.50\n",
       "4  912810QD3   4.375  0.04469  16.75"
      ]
     },
     "execution_count": 3,
     "metadata": {},
     "output_type": "execute_result"
    }
   ],
   "source": [
    "# Bond data from fiscaldata.treasury.gov\n",
    "# t = 3/15/2023\n",
    "# Maturity (T-t) is rounded to the nearest .25 years\n",
    "\n",
    "df = pd.read_csv(\"deliverable_bonds.csv\")\n",
    "df[\"Yield\"] = df[\"Yield\"]/100\n",
    "df.head()"
   ]
  },
  {
   "cell_type": "markdown",
   "id": "378c8742",
   "metadata": {},
   "source": [
    "### Calculate bond prices and conversion factors"
   ]
  },
  {
   "cell_type": "code",
   "execution_count": 4,
   "id": "c4c697b6",
   "metadata": {},
   "outputs": [],
   "source": [
    "conversion_factors = list()\n",
    "bond_prices = list()\n",
    "for i in range(0,len(df)):\n",
    "    bond_prices.append(P(df[\"T-t\"][i],df[\"Coupon\"][i],df[\"Yield\"][i]))\n",
    "    conversion_factors.append(conversion_factor(df[\"Coupon\"][i],df[\"T-t\"][i]))\n",
    "df[\"P\"] = bond_prices\n",
    "df[\"cf\"] = conversion_factors"
   ]
  },
  {
   "cell_type": "markdown",
   "id": "edd564bc",
   "metadata": {},
   "source": [
    "### Calculate delivery profits"
   ]
  },
  {
   "cell_type": "code",
   "execution_count": 5,
   "id": "3a1d7db2",
   "metadata": {},
   "outputs": [
    {
     "data": {
      "text/html": [
       "<div>\n",
       "<style scoped>\n",
       "    .dataframe tbody tr th:only-of-type {\n",
       "        vertical-align: middle;\n",
       "    }\n",
       "\n",
       "    .dataframe tbody tr th {\n",
       "        vertical-align: top;\n",
       "    }\n",
       "\n",
       "    .dataframe thead th {\n",
       "        text-align: right;\n",
       "    }\n",
       "</style>\n",
       "<table border=\"1\" class=\"dataframe\">\n",
       "  <thead>\n",
       "    <tr style=\"text-align: right;\">\n",
       "      <th></th>\n",
       "      <th>Ticker</th>\n",
       "      <th>Coupon</th>\n",
       "      <th>Yield</th>\n",
       "      <th>T-t</th>\n",
       "      <th>P</th>\n",
       "      <th>cf</th>\n",
       "      <th>delivery_profit</th>\n",
       "    </tr>\n",
       "  </thead>\n",
       "  <tbody>\n",
       "    <tr>\n",
       "      <th>0</th>\n",
       "      <td>912810PX0</td>\n",
       "      <td>4.500</td>\n",
       "      <td>0.04609</td>\n",
       "      <td>15.25</td>\n",
       "      <td>99.385326</td>\n",
       "      <td>84.0483</td>\n",
       "      <td>2.832589</td>\n",
       "    </tr>\n",
       "    <tr>\n",
       "      <th>1</th>\n",
       "      <td>912810QA9</td>\n",
       "      <td>3.500</td>\n",
       "      <td>0.03540</td>\n",
       "      <td>16.00</td>\n",
       "      <td>99.134108</td>\n",
       "      <td>74.5140</td>\n",
       "      <td>-8.708694</td>\n",
       "    </tr>\n",
       "    <tr>\n",
       "      <th>2</th>\n",
       "      <td>912810QB7</td>\n",
       "      <td>4.250</td>\n",
       "      <td>0.04288</td>\n",
       "      <td>16.25</td>\n",
       "      <td>100.096948</td>\n",
       "      <td>80.9545</td>\n",
       "      <td>-1.727138</td>\n",
       "    </tr>\n",
       "    <tr>\n",
       "      <th>3</th>\n",
       "      <td>912810QC5</td>\n",
       "      <td>4.500</td>\n",
       "      <td>0.04541</td>\n",
       "      <td>16.50</td>\n",
       "      <td>98.932969</td>\n",
       "      <td>84.4257</td>\n",
       "      <td>3.783810</td>\n",
       "    </tr>\n",
       "    <tr>\n",
       "      <th>4</th>\n",
       "      <td>912810QD3</td>\n",
       "      <td>4.375</td>\n",
       "      <td>0.04469</td>\n",
       "      <td>16.75</td>\n",
       "      <td>99.428135</td>\n",
       "      <td>81.9083</td>\n",
       "      <td>0.136622</td>\n",
       "    </tr>\n",
       "    <tr>\n",
       "      <th>...</th>\n",
       "      <td>...</td>\n",
       "      <td>...</td>\n",
       "      <td>...</td>\n",
       "      <td>...</td>\n",
       "      <td>...</td>\n",
       "      <td>...</td>\n",
       "      <td>...</td>\n",
       "    </tr>\n",
       "    <tr>\n",
       "      <th>63</th>\n",
       "      <td>912810TB4</td>\n",
       "      <td>1.875</td>\n",
       "      <td>0.01940</td>\n",
       "      <td>28.75</td>\n",
       "      <td>98.846950</td>\n",
       "      <td>43.3557</td>\n",
       "      <td>-47.051660</td>\n",
       "    </tr>\n",
       "    <tr>\n",
       "      <th>64</th>\n",
       "      <td>912810TD0</td>\n",
       "      <td>2.250</td>\n",
       "      <td>0.02340</td>\n",
       "      <td>29.00</td>\n",
       "      <td>97.828515</td>\n",
       "      <td>48.7544</td>\n",
       "      <td>-39.311290</td>\n",
       "    </tr>\n",
       "    <tr>\n",
       "      <th>65</th>\n",
       "      <td>912810TG3</td>\n",
       "      <td>2.875</td>\n",
       "      <td>0.02997</td>\n",
       "      <td>29.25</td>\n",
       "      <td>97.938615</td>\n",
       "      <td>56.4547</td>\n",
       "      <td>-29.891717</td>\n",
       "    </tr>\n",
       "    <tr>\n",
       "      <th>66</th>\n",
       "      <td>912810TJ7</td>\n",
       "      <td>3.000</td>\n",
       "      <td>0.03106</td>\n",
       "      <td>29.50</td>\n",
       "      <td>97.503550</td>\n",
       "      <td>58.7413</td>\n",
       "      <td>-26.599302</td>\n",
       "    </tr>\n",
       "    <tr>\n",
       "      <th>67</th>\n",
       "      <td>912810TL2</td>\n",
       "      <td>4.000</td>\n",
       "      <td>0.04080</td>\n",
       "      <td>29.75</td>\n",
       "      <td>98.930162</td>\n",
       "      <td>71.4306</td>\n",
       "      <td>-12.342848</td>\n",
       "    </tr>\n",
       "  </tbody>\n",
       "</table>\n",
       "<p>68 rows × 7 columns</p>\n",
       "</div>"
      ],
      "text/plain": [
       "       Ticker  Coupon    Yield    T-t           P       cf  delivery_profit\n",
       "0   912810PX0   4.500  0.04609  15.25   99.385326  84.0483         2.832589\n",
       "1   912810QA9   3.500  0.03540  16.00   99.134108  74.5140        -8.708694\n",
       "2   912810QB7   4.250  0.04288  16.25  100.096948  80.9545        -1.727138\n",
       "3   912810QC5   4.500  0.04541  16.50   98.932969  84.4257         3.783810\n",
       "4   912810QD3   4.375  0.04469  16.75   99.428135  81.9083         0.136622\n",
       "..        ...     ...      ...    ...         ...      ...              ...\n",
       "63  912810TB4   1.875  0.01940  28.75   98.846950  43.3557       -47.051660\n",
       "64  912810TD0   2.250  0.02340  29.00   97.828515  48.7544       -39.311290\n",
       "65  912810TG3   2.875  0.02997  29.25   97.938615  56.4547       -29.891717\n",
       "66  912810TJ7   3.000  0.03106  29.50   97.503550  58.7413       -26.599302\n",
       "67  912810TL2   4.000  0.04080  29.75   98.930162  71.4306       -12.342848\n",
       "\n",
       "[68 rows x 7 columns]"
      ]
     },
     "execution_count": 5,
     "metadata": {},
     "output_type": "execute_result"
    }
   ],
   "source": [
    "# Sept '23 U.S. treasury bond future on 3/3 (ZBM3)\n",
    "Phi_t = 123+(31/32)\n",
    "T_f = 0.5\n",
    "\n",
    "# 10yr treasury rate on 3/3 (risk-free rate)\n",
    "r = .0397\n",
    "\n",
    "delivery_profits = list()\n",
    "for i in range(0,len(df)):\n",
    "    delivery_profits.append(delivery_profit(Phi_t, df[\"Coupon\"][i], df[\"P\"][i], df[\"cf\"][i], df[\"T-t\"][i], T_f, r))\n",
    "df[\"delivery_profit\"] = delivery_profits\n",
    "df"
   ]
  },
  {
   "cell_type": "markdown",
   "id": "a0221f43",
   "metadata": {},
   "source": [
    "### CTD for Sept '23 T-Bond future (as of 3/15/2023):"
   ]
  },
  {
   "cell_type": "code",
   "execution_count": 6,
   "id": "1d285042",
   "metadata": {},
   "outputs": [
    {
     "data": {
      "text/plain": [
       "Ticker             912810QN1\n",
       "Coupon                  4.75\n",
       "Yield                 0.0475\n",
       "T-t                     18.0\n",
       "P                  99.320225\n",
       "cf                   86.3548\n",
       "delivery_profit     5.780423\n",
       "Name: 12, dtype: object"
      ]
     },
     "execution_count": 6,
     "metadata": {},
     "output_type": "execute_result"
    }
   ],
   "source": [
    "CTD = df.loc[np.where(df[\"delivery_profit\"] == df[\"delivery_profit\"].max())[0][0]]\n",
    "CTD"
   ]
  },
  {
   "cell_type": "code",
   "execution_count": 7,
   "id": "84a9c011",
   "metadata": {},
   "outputs": [
    {
     "data": {
      "image/png": "[encoded data removed]",
      "text/plain": [
       "<Figure size 640x480 with 1 Axes>"
      ]
     },
     "metadata": {},
     "output_type": "display_data"
    }
   ],
   "source": [
    "plt.scatter(df[\"T-t\"],df[\"delivery_profit\"])\n",
    "plt.scatter(CTD[\"T-t\"],CTD[\"delivery_profit\"],color=\"red\",label=\"CTD\")\n",
    "plt.legend()\n",
    "plt.ylabel(\"Delivery Profit\")\n",
    "plt.xlabel(\"Time to Maturity\")\n",
    "plt.show()"
   ]
  }
 ],
 "metadata": {
  "kernelspec": {
   "display_name": "Python 3 (ipykernel)",
   "language": "python",
   "name": "python3"
  },
  "language_info": {
   "codemirror_mode": {
    "name": "ipython",
    "version": 3
   },
   "file_extension": ".py",
   "mimetype": "text/x-python",
   "name": "python",
   "nbconvert_exporter": "python",
   "pygments_lexer": "ipython3",
   "version": "3.9.13"
  }
 },
 "nbformat": 4,
 "nbformat_minor": 5
}
